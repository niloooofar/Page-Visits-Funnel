{
 "cells": [
  {
   "cell_type": "markdown",
   "metadata": {},
   "source": [
    "## Page Visits Funnel"
   ]
  },
  {
   "cell_type": "markdown",
   "metadata": {},
   "source": [
    "Cool T-Shirts Inc. has asked you to analyze data on visits to their website. Your job is to build a funnel, which is a description of how many people continue to the next step of a multi-step process.\n",
    "\n",
    "In this case, our funnel is going to describe the following process:\n",
    "\n",
    "    1.A user visits CoolTShirts.com\n",
    "    \n",
    "    2.A user adds a t-shirt to their cart\n",
    "    \n",
    "    3.A user clicks “checkout”\n",
    "    \n",
    "    4.A user actually purchases a t-shirt\n"
   ]
  },
  {
   "cell_type": "markdown",
   "metadata": {},
   "source": [
    "</br></br></br>\n",
    "***\n",
    "<b>1.</b> Inspect the DataFrames using print and head:\n",
    "\n",
    "    visits lists all of the users who have visited the website\n",
    "    cart lists all of the users who have added a t-shirt to their cart\n",
    "    checkout lists all of the users who have started the checkout\n",
    "    purchase lists all of the users who have purchased a t-shirt\n",
    "\n",
    "<b>2.</b> Combine visits and cart using a left merge.\n"
   ]
  },
  {
   "cell_type": "code",
   "execution_count": 32,
   "metadata": {},
   "outputs": [],
   "source": [
    "import pandas as pd\n",
    "\n",
    "visits = pd.read_csv('visits.csv', parse_dates=[1])\n",
    "cart = pd.read_csv('cart.csv', parse_dates=[1])\n",
    "checkout = pd.read_csv('checkout.csv', parse_dates=[1])\n",
    "purchase = pd.read_csv('purchase.csv', parse_dates=[1])\n",
    "\n",
    "visit_cart_df = pd.merge(visits, cart, how = \"left\")"
   ]
  },
  {
   "cell_type": "markdown",
   "metadata": {},
   "source": [
    "<br/><br/>\n",
    "<b>3.</b> How long is your merged DataFrame?\n",
    "\n",
    "\n",
    "<b>4.</b> How many of the timestamps are null for the column cart_time?\n",
    "\n",
    "What do these null rows mean?\n"
   ]
  },
  {
   "cell_type": "code",
   "execution_count": 33,
   "metadata": {},
   "outputs": [
    {
     "name": "stdout",
     "output_type": "stream",
     "text": [
      "2000\n",
      "1652\n"
     ]
    }
   ],
   "source": [
    "print(len(visit_cart_df))\n",
    "print(sum(visit_cart_df.cart_time.isna()))\n",
    "# print(len(visit_cart_df[visit_cart_df.cart_time.isnull()]))"
   ]
  },
  {
   "cell_type": "markdown",
   "metadata": {},
   "source": [
    "<br/><br/>\n",
    "<b>5.</b> What percent of users who visited Cool T-Shirts Inc. ended up not placing a t-shirt in their cart?\n",
    "\n",
    "Note: To calculate percentages, it will be helpful to turn either the numerator or the denominator into a float, by using float(), with the number to convert passed in as input. Otherwise, Python will use integer division, which truncates decimal points.\n",
    "\n",
    "hint: (If a row of your merged DataFrame has cart_time equal to null, then that user visited the website, but did not place a t-shirt in their cart.)\n"
   ]
  },
  {
   "cell_type": "code",
   "execution_count": 34,
   "metadata": {},
   "outputs": [
    {
     "name": "stdout",
     "output_type": "stream",
     "text": [
      "ratio of visit to cart : 0.826\n"
     ]
    }
   ],
   "source": [
    "print(\"ratio of visit to cart :\" ,float(sum(visit_cart_df.cart_time.isna()) / len(visit_cart_df)) )"
   ]
  },
  {
   "cell_type": "markdown",
   "metadata": {},
   "source": [
    "<br/><br/>\n",
    "<b>6.</b> Repeat the left merge for cart and checkout and count null values. What percentage of users put items in their cart, but did not proceed to checkout?\n"
   ]
  },
  {
   "cell_type": "code",
   "execution_count": 35,
   "metadata": {},
   "outputs": [
    {
     "name": "stdout",
     "output_type": "stream",
     "text": [
      "ratio of cart to checkout:  0.2717023675310034\n"
     ]
    }
   ],
   "source": [
    "visit_cart_checkout_df = pd.merge(visit_cart_df, checkout, how = \"left\")\n",
    "cart_cnt = len(visit_cart_checkout_df[~visit_cart_checkout_df.cart_time.isna()])\n",
    "checkout_cnt = len(visit_cart_checkout_df[visit_cart_checkout_df.checkout_time.isna()])\n",
    "cart_no_checkout = float(cart_cnt) / float(checkout_cnt)\n",
    "print(\"ratio of cart to checkout: \",cart_no_checkout)\n"
   ]
  },
  {
   "cell_type": "markdown",
   "metadata": {},
   "source": [
    "<br/><br/>\n",
    "<b>7.</b> Merge all four steps of the funnel, in order, using a series of left merges. Save the results to the variable all_data.\n",
    "\n",
    "Examine the result using print and head.\n"
   ]
  },
  {
   "cell_type": "code",
   "execution_count": 36,
   "metadata": {},
   "outputs": [],
   "source": [
    "all_data = pd.merge(visit_cart_checkout_df, purchase, how = \"left\")"
   ]
  },
  {
   "cell_type": "markdown",
   "metadata": {},
   "source": [
    "<br/><br/>\n",
    "<b>8.</b> What percentage of users proceeded to checkout, but did not purchase a t-shirt?\n"
   ]
  },
  {
   "cell_type": "code",
   "execution_count": 37,
   "metadata": {},
   "outputs": [
    {
     "name": "stdout",
     "output_type": "stream",
     "text": [
      "0.2801578354002255\n"
     ]
    }
   ],
   "source": [
    "purchase_cnt = len(all_data[~all_data.purchase_time.isna()])\n",
    "print( purchase_cnt / checkout_cnt )"
   ]
  },
  {
   "cell_type": "markdown",
   "metadata": {},
   "source": [
    "<br/><br/>\n",
    "<b>9.</b> Which step of the funnel is weakest (i.e., has the highest percentage of users not completing it)?\n",
    "\n",
    "How might Cool T-Shirts Inc. change their website to fix this problem?\n"
   ]
  },
  {
   "cell_type": "markdown",
   "metadata": {},
   "source": [
    "<br/><br/>\n",
    "### Average Time to Purchase"
   ]
  },
  {
   "cell_type": "markdown",
   "metadata": {},
   "source": [
    "<b>10.</b> Using the giant merged DataFrame all_data that you created, let’s calculate the average time from initial visit to final purchase. Start by adding the following column to your DataFrame:\n",
    "\n",
    "all_data['time_to_purchase'] = \\\n",
    "    all_data.purchase_time - \\\n",
    "    all_data.visit_time"
   ]
  },
  {
   "cell_type": "code",
   "execution_count": 38,
   "metadata": {},
   "outputs": [],
   "source": [
    "all_data['time_to_purchase'] = pd.to_numeric(all_data.purchase_time) - pd.to_numeric(all_data.visit_time)"
   ]
  },
  {
   "cell_type": "markdown",
   "metadata": {},
   "source": [
    "<br/><br/>\n",
    "<b>11.</b> Examine the results using:\n",
    "\n",
    "print(all_data.time_to_purchase)\n",
    "\n",
    "<br/>\n",
    "\n",
    "<b>12.</b> Calculate the average time to purchase using the following code:\n",
    "\n",
    "print(all_data.time_to_purchase.mean())\n"
   ]
  },
  {
   "cell_type": "code",
   "execution_count": 44,
   "metadata": {},
   "outputs": [
    {
     "name": "stdout",
     "output_type": "stream",
     "text": [
      "0       7731793996854775808\n",
      "1             2640000000000\n",
      "2       7720154656854775808\n",
      "3       7713552736854775808\n",
      "4       7735177336854775808\n",
      "               ...         \n",
      "2367    7732959496854775808\n",
      "2368    7739502616854775808\n",
      "2369    7718583076854775808\n",
      "2370    7722846616854775808\n",
      "2371    7712631376854775808\n",
      "Name: time_to_purchase, Length: 2372, dtype: int64 \n",
      "\n",
      "\n",
      "average time from visit to purchase is: 6.106925050338408e+18\n"
     ]
    }
   ],
   "source": [
    "print(all_data.time_to_purchase, \"\\n\\n\")\n",
    "print(\"average time from visit to purchase is:\", all_data.time_to_purchase.mean())"
   ]
  }
 ],
 "metadata": {
  "kernelspec": {
   "display_name": "Python 3",
   "language": "python",
   "name": "python3"
  },
  "language_info": {
   "codemirror_mode": {
    "name": "ipython",
    "version": 3
   },
   "file_extension": ".py",
   "mimetype": "text/x-python",
   "name": "python",
   "nbconvert_exporter": "python",
   "pygments_lexer": "ipython3",
   "version": "3.8.5"
  }
 },
 "nbformat": 4,
 "nbformat_minor": 4
}
